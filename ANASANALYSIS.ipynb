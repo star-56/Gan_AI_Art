{
  "nbformat": 4,
  "nbformat_minor": 0,
  "metadata": {
    "colab": {
      "provenance": []
    },
    "kernelspec": {
      "name": "python3",
      "display_name": "Python 3"
    },
    "language_info": {
      "name": "python"
    }
  },
  "cells": [
    {
      "cell_type": "code",
      "source": [
        "import google.generativeai as genai\n",
        "\n",
        "genai.configure(api_key='<YOUR_API_KEY')\n",
        "\n",
        "model = genai.GenerativeModel('gemini-pro')\n",
        "\n",
        "prompt = input(\"Please enter your prompt (e.g., 'Write a poem about a kitten.'): \")\n",
        "\n",
        "#we have to use response.text to get the text from the response.\n",
        "response = model.generate_content(prompt)\n",
        "\n",
        "print(response.text)"
      ],
      "metadata": {
        "colab": {
          "base_uri": "https://localhost:8080/",
          "height": 625
        },
        "id": "DxkHP6CzTPVN",
        "outputId": "57f6c48d-2c46-48f6-b23e-4ec96294b87d"
      },
      "execution_count": 4,
      "outputs": [
        {
          "output_type": "stream",
          "name": "stdout",
          "text": [
            "Please enter your prompt (e.g., 'Write a poem about a kitten.'): Poem about a kitten\n",
            "In a world of wonder, where sunshine gleams,\n",
            "There roams a creature, a kitten it seems,\n",
            "With eyes of emerald, bright as the day,\n",
            "A bundle of joy, come what may.\n",
            "\n",
            "Its coat, a tapestry of softest hue,\n",
            "In shades of silver and golden dew,\n",
            "It prances and plays, a lively delight,\n",
            "A ball of fur, a heart filled with light.\n",
            "\n",
            "With paws so nimble, it dances on air,\n",
            "A tiny hunter, beyond compare,\n",
            "Its playful antics, a joy to behold,\n",
            "A source of wonder, a story untold.\n",
            "\n",
            "At night, it curls up in slumber's embrace,\n",
            "A purring symphony, a comforting chase,\n",
            "Dreams of chasing mice, in its tiny head,\n",
            "A world of wonder, where dreams are spread.\n",
            "\n",
            "A kitten's love, a treasure so true,\n",
            "A bond that will last, through thick and through,\n",
            "With a gentle touch, it melts away strife,\n",
            "A furry companion, for all of life.\n",
            "\n",
            "From playful kitten to dignified cat,\n",
            "It grows and changes, but love remains intact,\n",
            "A constant companion, a friend so dear,\n",
            "Through all of life's moments, it will be near.\n",
            "\n",
            "So cherish the kitten, its innocence pure,\n",
            "Its playful spirit, its warmth can endure,\n",
            "A bundle of joy, a heart of gold,\n",
            "A treasure to cherish, a story to be told.\n"
          ]
        }
      ]
    },
    {
      "cell_type": "code",
      "source": [
        "content = response.text"
      ],
      "metadata": {
        "id": "5vbLII9dTS-l"
      },
      "execution_count": 27,
      "outputs": []
    },
    {
      "cell_type": "code",
      "source": [
        "print(content)"
      ],
      "metadata": {
        "colab": {
          "base_uri": "https://localhost:8080/"
        },
        "id": "XmrHHgP-TtgN",
        "outputId": "72533e4a-d0ff-4d7a-89e9-3305386bec54"
      },
      "execution_count": 26,
      "outputs": [
        {
          "output_type": "stream",
          "name": "stdout",
          "text": [
            "In a world of wonder, where sunshine gleams,\n",
            "There roams a creature, a kitten it seems,\n",
            "With eyes of emerald, bright as the day,\n",
            "A bundle of joy, come what may.\n",
            "\n",
            "Its coat, a tapestry of softest hue,\n",
            "In shades of silver and golden dew,\n",
            "It prances and plays, a lively delight,\n",
            "A ball of fur, a heart filled with light.\n",
            "\n",
            "With paws so nimble, it dances on air,\n",
            "A tiny hunter, beyond compare,\n",
            "Its playful antics, a joy to behold,\n",
            "A source of wonder, a story untold.\n",
            "\n",
            "At night, it curls up in slumber's embrace,\n",
            "A purring symphony, a comforting chase,\n",
            "Dreams of chasing mice, in its tiny head,\n",
            "A world of wonder, where dreams are spread.\n",
            "\n",
            "A kitten's love, a treasure so true,\n",
            "A bond that will last, through thick and through,\n",
            "With a gentle touch, it melts away strife,\n",
            "A furry companion, for all of life.\n",
            "\n",
            "From playful kitten to dignified cat,\n",
            "It grows and changes, but love remains intact,\n",
            "A constant companion, a friend so dear,\n",
            "Through all of life's moments, it will be near.\n",
            "\n",
            "So cherish the kitten, its innocence pure,\n",
            "Its playful spirit, its warmth can endure,\n",
            "A bundle of joy, a heart of gold,\n",
            "A treasure to cherish, a story to be told.\n"
          ]
        }
      ]
    },
    {
      "cell_type": "code",
      "source": [
        "#.format print statement\n",
        "\n",
        "sentimentresponse = model.generate_content(\"Generate a sentiment analysis of this text{}\".format(content))\n",
        "print(sentimentresponse.text)"
      ],
      "metadata": {
        "colab": {
          "base_uri": "https://localhost:8080/",
          "height": 312
        },
        "id": "EdhAlFbaUTm8",
        "outputId": "f04150b0-a70f-495b-87bc-8c5a45f4a85b"
      },
      "execution_count": 18,
      "outputs": [
        {
          "output_type": "stream",
          "name": "stdout",
          "text": [
            "Sentiment Analysis:\n",
            "\n",
            "The overall sentiment of the provided text is overwhelmingly positive. The author's language and imagery evoke a sense of joy, wonder, and affection towards kittens. Here are the key sentiments expressed in the text:\n",
            "\n",
            "1. Admiration: The author expresses admiration for the beauty of kittens, using words like \"emerald eyes,\" \"softest hue,\" and \"tapestry of colors.\"\n",
            "\n",
            "2. Playfulness: The text captures the playful and lively nature of kittens, describing their prancing, dancing, and hunting antics.\n",
            "\n",
            "3. Comfort and Warmth: The author portrays kittens as a source of comfort and warmth, mentioning their purring symphony and their ability to melt away strife with a gentle touch.\n",
            "\n",
            "4. Loyalty and Companionship: The text emphasizes the strong bond between kittens and their owners, describing the kitten as a constant companion and a friend for all of life.\n",
            "\n",
            "5. Innocence and Purity: The author highlights the kitten's innocence and pure spirit, which bring joy and wonder to those around them.\n",
            "\n",
            "6. Appreciation: The text expresses appreciation for the companionship and love that kittens provide, acknowledging them as treasures to cherish.\n",
            "\n",
            "Overall, the author's language and tone create a positive and affectionate sentiment towards kittens, emphasizing their beauty, playfulness, and the joy they bring to people's lives.\n"
          ]
        }
      ]
    },
    {
      "cell_type": "code",
      "source": [
        "sentiment = sentimentresponse.text"
      ],
      "metadata": {
        "id": "XJTSk377Xu39"
      },
      "execution_count": 19,
      "outputs": []
    },
    {
      "cell_type": "code",
      "source": [
        "print(sentiment)"
      ],
      "metadata": {
        "colab": {
          "base_uri": "https://localhost:8080/"
        },
        "id": "rTB-_dmeZs9u",
        "outputId": "314975e6-8dfd-4134-8d19-21ccdf41efe8"
      },
      "execution_count": 24,
      "outputs": [
        {
          "output_type": "stream",
          "name": "stdout",
          "text": [
            "Sentiment Analysis:\n",
            "\n",
            "The overall sentiment of the provided text is overwhelmingly positive. The author's language and imagery evoke a sense of joy, wonder, and affection towards kittens. Here are the key sentiments expressed in the text:\n",
            "\n",
            "1. Admiration: The author expresses admiration for the beauty of kittens, using words like \"emerald eyes,\" \"softest hue,\" and \"tapestry of colors.\"\n",
            "\n",
            "2. Playfulness: The text captures the playful and lively nature of kittens, describing their prancing, dancing, and hunting antics.\n",
            "\n",
            "3. Comfort and Warmth: The author portrays kittens as a source of comfort and warmth, mentioning their purring symphony and their ability to melt away strife with a gentle touch.\n",
            "\n",
            "4. Loyalty and Companionship: The text emphasizes the strong bond between kittens and their owners, describing the kitten as a constant companion and a friend for all of life.\n",
            "\n",
            "5. Innocence and Purity: The author highlights the kitten's innocence and pure spirit, which bring joy and wonder to those around them.\n",
            "\n",
            "6. Appreciation: The text expresses appreciation for the companionship and love that kittens provide, acknowledging them as treasures to cherish.\n",
            "\n",
            "Overall, the author's language and tone create a positive and affectionate sentiment towards kittens, emphasizing their beauty, playfulness, and the joy they bring to people's lives.\n"
          ]
        }
      ]
    },
    {
      "cell_type": "code",
      "source": [
        "print(\"{} \\n\\n {}\".format(content, sentiment))"
      ],
      "metadata": {
        "colab": {
          "base_uri": "https://localhost:8080/"
        },
        "id": "9w2_4NOWZtsN",
        "outputId": "8d77bf28-42cc-44ff-be9b-7628bae0dfea"
      },
      "execution_count": 30,
      "outputs": [
        {
          "output_type": "stream",
          "name": "stdout",
          "text": [
            "In a world of wonder, where sunshine gleams,\n",
            "There roams a creature, a kitten it seems,\n",
            "With eyes of emerald, bright as the day,\n",
            "A bundle of joy, come what may.\n",
            "\n",
            "Its coat, a tapestry of softest hue,\n",
            "In shades of silver and golden dew,\n",
            "It prances and plays, a lively delight,\n",
            "A ball of fur, a heart filled with light.\n",
            "\n",
            "With paws so nimble, it dances on air,\n",
            "A tiny hunter, beyond compare,\n",
            "Its playful antics, a joy to behold,\n",
            "A source of wonder, a story untold.\n",
            "\n",
            "At night, it curls up in slumber's embrace,\n",
            "A purring symphony, a comforting chase,\n",
            "Dreams of chasing mice, in its tiny head,\n",
            "A world of wonder, where dreams are spread.\n",
            "\n",
            "A kitten's love, a treasure so true,\n",
            "A bond that will last, through thick and through,\n",
            "With a gentle touch, it melts away strife,\n",
            "A furry companion, for all of life.\n",
            "\n",
            "From playful kitten to dignified cat,\n",
            "It grows and changes, but love remains intact,\n",
            "A constant companion, a friend so dear,\n",
            "Through all of life's moments, it will be near.\n",
            "\n",
            "So cherish the kitten, its innocence pure,\n",
            "Its playful spirit, its warmth can endure,\n",
            "A bundle of joy, a heart of gold,\n",
            "A treasure to cherish, a story to be told. \n",
            "\n",
            " Sentiment Analysis:\n",
            "\n",
            "The overall sentiment of the provided text is overwhelmingly positive. The author's language and imagery evoke a sense of joy, wonder, and affection towards kittens. Here are the key sentiments expressed in the text:\n",
            "\n",
            "1. Admiration: The author expresses admiration for the beauty of kittens, using words like \"emerald eyes,\" \"softest hue,\" and \"tapestry of colors.\"\n",
            "\n",
            "2. Playfulness: The text captures the playful and lively nature of kittens, describing their prancing, dancing, and hunting antics.\n",
            "\n",
            "3. Comfort and Warmth: The author portrays kittens as a source of comfort and warmth, mentioning their purring symphony and their ability to melt away strife with a gentle touch.\n",
            "\n",
            "4. Loyalty and Companionship: The text emphasizes the strong bond between kittens and their owners, describing the kitten as a constant companion and a friend for all of life.\n",
            "\n",
            "5. Innocence and Purity: The author highlights the kitten's innocence and pure spirit, which bring joy and wonder to those around them.\n",
            "\n",
            "6. Appreciation: The text expresses appreciation for the companionship and love that kittens provide, acknowledging them as treasures to cherish.\n",
            "\n",
            "Overall, the author's language and tone create a positive and affectionate sentiment towards kittens, emphasizing their beauty, playfulness, and the joy they bring to people's lives.\n"
          ]
        }
      ]
    },
    {
      "cell_type": "code",
      "source": [],
      "metadata": {
        "id": "Hfxsmw7wdJEw"
      },
      "execution_count": null,
      "outputs": []
    }
  ]
}
